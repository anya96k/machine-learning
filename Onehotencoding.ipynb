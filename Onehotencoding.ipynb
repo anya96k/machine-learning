{
 "cells": [
  {
   "cell_type": "code",
   "execution_count": 1,
   "id": "aadf4555",
   "metadata": {},
   "outputs": [
    {
     "name": "stdout",
     "output_type": "stream",
     "text": [
      "   NOC  Gold  Silver  Bronze  Total\n",
      "0  USA    40      44      42    126\n",
      "1  CHN    40      27      24     91\n",
      "2  JPN    20      12      13     45\n",
      "3  AUS    18      19      16     53\n",
      "4  FRA    16      26      22     64\n"
     ]
    }
   ],
   "source": [
    "import numpy as np\n",
    "import pandas as pd\n",
    "data=pd.read_csv('op.csv')\n",
    "print(data.head())"
   ]
  },
  {
   "cell_type": "code",
   "execution_count": 7,
   "id": "b2c0d479",
   "metadata": {},
   "outputs": [
    {
     "data": {
      "text/plain": [
       "0     25\n",
       "1     23\n",
       "2     11\n",
       "3     11\n",
       "7      5\n",
       "4      4\n",
       "13     2\n",
       "5      2\n",
       "44     1\n",
       "27     1\n",
       "12     1\n",
       "19     1\n",
       "26     1\n",
       "22     1\n",
       "9      1\n",
       "6      1\n",
       "Name: Silver, dtype: int64"
      ]
     },
     "execution_count": 7,
     "metadata": {},
     "output_type": "execute_result"
    }
   ],
   "source": [
    "data['Gold'].value_counts()\n",
    "data['Silver'].value_counts()"
   ]
  },
  {
   "cell_type": "code",
   "execution_count": 8,
   "id": "c975fabd",
   "metadata": {},
   "outputs": [
    {
     "name": "stdout",
     "output_type": "stream",
     "text": [
      "    NOC  Bronze  Total  Gold_0  Gold_1  Gold_2  Gold_3  Gold_4  Gold_5  \\\n",
      "0   USA      42    126       0       0       0       0       0       0   \n",
      "1   CHN      24     91       0       0       0       0       0       0   \n",
      "2   JPN      13     45       0       0       0       0       0       0   \n",
      "3   AUS      16     53       0       0       0       0       0       0   \n",
      "4   FRA      22     64       0       0       0       0       0       0   \n",
      "..  ...     ...    ...     ...     ...     ...     ...     ...     ...   \n",
      "86  SIN       1      1       1       0       0       0       0       0   \n",
      "87  CIV       1      1       1       0       0       0       0       0   \n",
      "88  ROT       1      1       1       0       0       0       0       0   \n",
      "89  PER       1      1       1       0       0       0       0       0   \n",
      "90  SVK       1      1       1       0       0       0       0       0   \n",
      "\n",
      "    Gold_6  ...  Silver_6  Silver_7  Silver_9  Silver_12  Silver_13  \\\n",
      "0        0  ...         0         0         0          0          0   \n",
      "1        0  ...         0         0         0          0          0   \n",
      "2        0  ...         0         0         0          1          0   \n",
      "3        0  ...         0         0         0          0          0   \n",
      "4        0  ...         0         0         0          0          0   \n",
      "..     ...  ...       ...       ...       ...        ...        ...   \n",
      "86       0  ...         0         0         0          0          0   \n",
      "87       0  ...         0         0         0          0          0   \n",
      "88       0  ...         0         0         0          0          0   \n",
      "89       0  ...         0         0         0          0          0   \n",
      "90       0  ...         0         0         0          0          0   \n",
      "\n",
      "    Silver_19  Silver_22  Silver_26  Silver_27  Silver_44  \n",
      "0           0          0          0          0          1  \n",
      "1           0          0          0          1          0  \n",
      "2           0          0          0          0          0  \n",
      "3           1          0          0          0          0  \n",
      "4           0          0          1          0          0  \n",
      "..        ...        ...        ...        ...        ...  \n",
      "86          0          0          0          0          0  \n",
      "87          0          0          0          0          0  \n",
      "88          0          0          0          0          0  \n",
      "89          0          0          0          0          0  \n",
      "90          0          0          0          0          0  \n",
      "\n",
      "[91 rows x 37 columns]\n"
     ]
    }
   ],
   "source": [
    "one_hot_encoded_data = pd.get_dummies(data, columns = ['Gold', 'Silver'])\n",
    "print(one_hot_encoded_data)"
   ]
  },
  {
   "cell_type": "code",
   "execution_count": 18,
   "id": "af65f52a",
   "metadata": {},
   "outputs": [
    {
     "name": "stdout",
     "output_type": "stream",
     "text": [
      "op:\n",
      "   NOC  gold Total\n",
      "0  USA     1     E\n",
      "1  FRA     2     B\n",
      "2  JPN     3    BE\n",
      "3  AUS     4     G\n",
      "\n"
     ]
    },
    {
     "ename": "NameError",
     "evalue": "name 'encoder' is not defined",
     "output_type": "error",
     "traceback": [
      "\u001b[1;31m---------------------------------------------------------------------------\u001b[0m",
      "\u001b[1;31mNameError\u001b[0m                                 Traceback (most recent call last)",
      "Input \u001b[1;32mIn [18]\u001b[0m, in \u001b[0;36m<cell line: 22>\u001b[1;34m()\u001b[0m\n\u001b[0;32m     14\u001b[0m \u001b[38;5;28mprint\u001b[39m(\u001b[38;5;124mf\u001b[39m\u001b[38;5;124m\"\u001b[39m\u001b[38;5;124mop:\u001b[39m\u001b[38;5;130;01m\\n\u001b[39;00m\u001b[38;5;132;01m{\u001b[39;00mdf\u001b[38;5;132;01m}\u001b[39;00m\u001b[38;5;130;01m\\n\u001b[39;00m\u001b[38;5;124m\"\u001b[39m)\n\u001b[0;32m     17\u001b[0m categorical_columns \u001b[38;5;241m=\u001b[39m df\u001b[38;5;241m.\u001b[39mselect_dtypes(include\u001b[38;5;241m=\u001b[39m[\u001b[38;5;124m'\u001b[39m\u001b[38;5;124mobject\u001b[39m\u001b[38;5;124m'\u001b[39m])\u001b[38;5;241m.\u001b[39mcolumns\u001b[38;5;241m.\u001b[39mtolist()\n\u001b[1;32m---> 22\u001b[0m one_hot_encoded \u001b[38;5;241m=\u001b[39m \u001b[43mencoder\u001b[49m\u001b[38;5;241m.\u001b[39mfit_transform(df[categorical_columns])\n\u001b[0;32m     24\u001b[0m one_hot_df \u001b[38;5;241m=\u001b[39m pd\u001b[38;5;241m.\u001b[39mDataFrame(one_hot_encoded, columns\u001b[38;5;241m=\u001b[39mencoder\u001b[38;5;241m.\u001b[39mget_feature_names_out(categorical_columns))\n\u001b[0;32m     26\u001b[0m df_encoded \u001b[38;5;241m=\u001b[39m pd\u001b[38;5;241m.\u001b[39mconcat([df, one_hot_df], axis\u001b[38;5;241m=\u001b[39m\u001b[38;5;241m1\u001b[39m)\n",
      "\u001b[1;31mNameError\u001b[0m: name 'encoder' is not defined"
     ]
    }
   ],
   "source": [
    "import pandas as pd\n",
    "from sklearn.preprocessing import OneHotEncoder\n",
    "\n",
    "\n",
    "data = {\n",
    "    'NOC': ['USA', 'FRA', 'JPN', 'AUS'],\n",
    "    'gold': [1, 2, 3, 4], \n",
    "    'Total': ['E', 'B', 'BE', 'G']\n",
    "}\n",
    "\n",
    "\n",
    "df = pd.DataFrame(data)\n",
    "\n",
    "print(f\"op:\\n{df}\\n\")\n",
    "\n",
    "\n",
    "categorical_columns = df.select_dtypes(include=['object']).columns.tolist()\n",
    "\n",
    "encoder = OneHotEncoder(sparse_output=False)\n",
    "\n",
    "\n",
    "one_hot_encoded = encoder.fit_transform(df[categorical_columns])\n",
    "\n",
    "one_hot_df = pd.DataFrame(one_hot_encoded, columns=encoder.get_feature_names_out(categorical_columns))\n",
    "\n",
    "df_encoded = pd.concat([df, one_hot_df], axis=1)\n",
    "\n",
    "df_encoded = df_encoded.drop(categorical_columns, axis=1)\n",
    "\n",
    "print(f\"Encoded op data:\\n{df_encoded}\")"
   ]
  },
  {
   "cell_type": "code",
   "execution_count": 21,
   "id": "6eb04812",
   "metadata": {},
   "outputs": [
    {
     "name": "stdout",
     "output_type": "stream",
     "text": [
      "Original DataFrame:\n",
      "   NOC  gold Total\n",
      "0  USA     1     E\n",
      "1  FRA     2     B\n",
      "2  JPN     3    BE\n",
      "3  AUS     4     G\n",
      "\n",
      "Encoded DataFrame:\n",
      "   gold  NOC_AUS  NOC_FRA  NOC_JPN  NOC_USA  Total_B  Total_BE  Total_E  \\\n",
      "0     1      0.0      0.0      0.0      1.0      0.0       0.0      1.0   \n",
      "1     2      0.0      1.0      0.0      0.0      1.0       0.0      0.0   \n",
      "2     3      0.0      0.0      1.0      0.0      0.0       1.0      0.0   \n",
      "3     4      1.0      0.0      0.0      0.0      0.0       0.0      0.0   \n",
      "\n",
      "   Total_G  \n",
      "0      0.0  \n",
      "1      0.0  \n",
      "2      0.0  \n",
      "3      1.0  \n"
     ]
    }
   ],
   "source": [
    "import pandas as pd\n",
    "from sklearn.preprocessing import OneHotEncoder\n",
    "\n",
    "data = {\n",
    "    'NOC': ['USA', 'FRA', 'JPN', 'AUS'],\n",
    "    'gold': [1, 2, 3, 4], \n",
    "    'Total': ['E', 'B', 'BE', 'G']\n",
    "}\n",
    "\n",
    "df = pd.DataFrame(data)\n",
    "print(f\"Original DataFrame:\\n{df}\\n\")\n",
    "\n",
    "categorical_columns = df.select_dtypes(include=['object']).columns.tolist()\n",
    "\n",
    "encoder = OneHotEncoder(sparse=False)\n",
    "\n",
    "one_hot_encoded = encoder.fit_transform(df[categorical_columns])\n",
    "\n",
    "one_hot_df = pd.DataFrame(one_hot_encoded, columns=encoder.get_feature_names_out(categorical_columns))\n",
    "\n",
    "df_encoded = pd.concat([df, one_hot_df], axis=1)\n",
    "\n",
    "df_encoded = df_encoded.drop(categorical_columns, axis=1)\n",
    "\n",
    "print(f\"Encoded DataFrame:\\n{df_encoded}\")"
   ]
  },
  {
   "cell_type": "code",
   "execution_count": null,
   "id": "58260507",
   "metadata": {},
   "outputs": [],
   "source": []
  },
  {
   "cell_type": "code",
   "execution_count": null,
   "id": "3bc9008a",
   "metadata": {},
   "outputs": [],
   "source": []
  },
  {
   "cell_type": "code",
   "execution_count": null,
   "id": "9cc3f98e",
   "metadata": {},
   "outputs": [],
   "source": []
  }
 ],
 "metadata": {
  "kernelspec": {
   "display_name": "Python 3 (ipykernel)",
   "language": "python",
   "name": "python3"
  },
  "language_info": {
   "codemirror_mode": {
    "name": "ipython",
    "version": 3
   },
   "file_extension": ".py",
   "mimetype": "text/x-python",
   "name": "python",
   "nbconvert_exporter": "python",
   "pygments_lexer": "ipython3",
   "version": "3.9.12"
  }
 },
 "nbformat": 4,
 "nbformat_minor": 5
}
